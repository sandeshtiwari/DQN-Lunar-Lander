{
  "nbformat": 4,
  "nbformat_minor": 0,
  "metadata": {
    "accelerator": "GPU",
    "colab": {
      "name": "Two NN LunarLander_DQN.ipynb",
      "provenance": [],
      "collapsed_sections": []
    },
    "kernelspec": {
      "display_name": "Python 3",
      "language": "python",
      "name": "python3"
    },
    "language_info": {
      "codemirror_mode": {
        "name": "ipython",
        "version": 3
      },
      "file_extension": ".py",
      "mimetype": "text/x-python",
      "name": "python",
      "nbconvert_exporter": "python",
      "pygments_lexer": "ipython3",
      "version": "3.7.4"
    }
  },
  "cells": [
    {
      "cell_type": "code",
      "metadata": {
        "colab_type": "code",
        "id": "WgWmaU1BKBJM",
        "colab": {}
      },
      "source": [
        "import gym\n",
        "import numpy as np\n",
        "import tensorflow as tf\n",
        "import random\n",
        "import matplotlib.pyplot as plt\n",
        "from collections import namedtuple\n",
        "from collections import deque"
      ],
      "execution_count": 1,
      "outputs": []
    },
    {
      "cell_type": "code",
      "metadata": {
        "id": "njjEbsfWdvvy",
        "colab_type": "code",
        "colab": {
          "base_uri": "https://localhost:8080/",
          "height": 128
        },
        "outputId": "4cf98983-62b6-4a12-cb93-676f97cd220d"
      },
      "source": [
        "!pip install Box2D"
      ],
      "execution_count": 2,
      "outputs": [
        {
          "output_type": "stream",
          "text": [
            "Collecting Box2D\n",
            "\u001b[?25l  Downloading https://files.pythonhosted.org/packages/a9/0b/d48d42dd9e19ce83a3fb4eee074e785b6c6ea612a2244dc2ef69427d338b/Box2D-2.3.10-cp36-cp36m-manylinux1_x86_64.whl (1.3MB)\n",
            "\r\u001b[K     |▎                               | 10kB 18.8MB/s eta 0:00:01\r\u001b[K     |▌                               | 20kB 1.7MB/s eta 0:00:01\r\u001b[K     |▊                               | 30kB 2.3MB/s eta 0:00:01\r\u001b[K     |█                               | 40kB 2.6MB/s eta 0:00:01\r\u001b[K     |█▎                              | 51kB 2.0MB/s eta 0:00:01\r\u001b[K     |█▌                              | 61kB 2.3MB/s eta 0:00:01\r\u001b[K     |█▊                              | 71kB 2.5MB/s eta 0:00:01\r\u001b[K     |██                              | 81kB 2.8MB/s eta 0:00:01\r\u001b[K     |██▎                             | 92kB 2.9MB/s eta 0:00:01\r\u001b[K     |██▌                             | 102kB 2.8MB/s eta 0:00:01\r\u001b[K     |██▊                             | 112kB 2.8MB/s eta 0:00:01\r\u001b[K     |███                             | 122kB 2.8MB/s eta 0:00:01\r\u001b[K     |███▏                            | 133kB 2.8MB/s eta 0:00:01\r\u001b[K     |███▌                            | 143kB 2.8MB/s eta 0:00:01\r\u001b[K     |███▊                            | 153kB 2.8MB/s eta 0:00:01\r\u001b[K     |████                            | 163kB 2.8MB/s eta 0:00:01\r\u001b[K     |████▏                           | 174kB 2.8MB/s eta 0:00:01\r\u001b[K     |████▌                           | 184kB 2.8MB/s eta 0:00:01\r\u001b[K     |████▊                           | 194kB 2.8MB/s eta 0:00:01\r\u001b[K     |█████                           | 204kB 2.8MB/s eta 0:00:01\r\u001b[K     |█████▏                          | 215kB 2.8MB/s eta 0:00:01\r\u001b[K     |█████▌                          | 225kB 2.8MB/s eta 0:00:01\r\u001b[K     |█████▊                          | 235kB 2.8MB/s eta 0:00:01\r\u001b[K     |██████                          | 245kB 2.8MB/s eta 0:00:01\r\u001b[K     |██████▏                         | 256kB 2.8MB/s eta 0:00:01\r\u001b[K     |██████▍                         | 266kB 2.8MB/s eta 0:00:01\r\u001b[K     |██████▊                         | 276kB 2.8MB/s eta 0:00:01\r\u001b[K     |███████                         | 286kB 2.8MB/s eta 0:00:01\r\u001b[K     |███████▏                        | 296kB 2.8MB/s eta 0:00:01\r\u001b[K     |███████▍                        | 307kB 2.8MB/s eta 0:00:01\r\u001b[K     |███████▊                        | 317kB 2.8MB/s eta 0:00:01\r\u001b[K     |████████                        | 327kB 2.8MB/s eta 0:00:01\r\u001b[K     |████████▏                       | 337kB 2.8MB/s eta 0:00:01\r\u001b[K     |████████▍                       | 348kB 2.8MB/s eta 0:00:01\r\u001b[K     |████████▊                       | 358kB 2.8MB/s eta 0:00:01\r\u001b[K     |█████████                       | 368kB 2.8MB/s eta 0:00:01\r\u001b[K     |█████████▏                      | 378kB 2.8MB/s eta 0:00:01\r\u001b[K     |█████████▍                      | 389kB 2.8MB/s eta 0:00:01\r\u001b[K     |█████████▋                      | 399kB 2.8MB/s eta 0:00:01\r\u001b[K     |██████████                      | 409kB 2.8MB/s eta 0:00:01\r\u001b[K     |██████████▏                     | 419kB 2.8MB/s eta 0:00:01\r\u001b[K     |██████████▍                     | 430kB 2.8MB/s eta 0:00:01\r\u001b[K     |██████████▋                     | 440kB 2.8MB/s eta 0:00:01\r\u001b[K     |███████████                     | 450kB 2.8MB/s eta 0:00:01\r\u001b[K     |███████████▏                    | 460kB 2.8MB/s eta 0:00:01\r\u001b[K     |███████████▍                    | 471kB 2.8MB/s eta 0:00:01\r\u001b[K     |███████████▋                    | 481kB 2.8MB/s eta 0:00:01\r\u001b[K     |████████████                    | 491kB 2.8MB/s eta 0:00:01\r\u001b[K     |████████████▏                   | 501kB 2.8MB/s eta 0:00:01\r\u001b[K     |████████████▍                   | 512kB 2.8MB/s eta 0:00:01\r\u001b[K     |████████████▋                   | 522kB 2.8MB/s eta 0:00:01\r\u001b[K     |████████████▉                   | 532kB 2.8MB/s eta 0:00:01\r\u001b[K     |█████████████▏                  | 542kB 2.8MB/s eta 0:00:01\r\u001b[K     |█████████████▍                  | 552kB 2.8MB/s eta 0:00:01\r\u001b[K     |█████████████▋                  | 563kB 2.8MB/s eta 0:00:01\r\u001b[K     |█████████████▉                  | 573kB 2.8MB/s eta 0:00:01\r\u001b[K     |██████████████▏                 | 583kB 2.8MB/s eta 0:00:01\r\u001b[K     |██████████████▍                 | 593kB 2.8MB/s eta 0:00:01\r\u001b[K     |██████████████▋                 | 604kB 2.8MB/s eta 0:00:01\r\u001b[K     |██████████████▉                 | 614kB 2.8MB/s eta 0:00:01\r\u001b[K     |███████████████▏                | 624kB 2.8MB/s eta 0:00:01\r\u001b[K     |███████████████▍                | 634kB 2.8MB/s eta 0:00:01\r\u001b[K     |███████████████▋                | 645kB 2.8MB/s eta 0:00:01\r\u001b[K     |███████████████▉                | 655kB 2.8MB/s eta 0:00:01\r\u001b[K     |████████████████                | 665kB 2.8MB/s eta 0:00:01\r\u001b[K     |████████████████▍               | 675kB 2.8MB/s eta 0:00:01\r\u001b[K     |████████████████▋               | 686kB 2.8MB/s eta 0:00:01\r\u001b[K     |████████████████▉               | 696kB 2.8MB/s eta 0:00:01\r\u001b[K     |█████████████████               | 706kB 2.8MB/s eta 0:00:01\r\u001b[K     |█████████████████▍              | 716kB 2.8MB/s eta 0:00:01\r\u001b[K     |█████████████████▋              | 727kB 2.8MB/s eta 0:00:01\r\u001b[K     |█████████████████▉              | 737kB 2.8MB/s eta 0:00:01\r\u001b[K     |██████████████████              | 747kB 2.8MB/s eta 0:00:01\r\u001b[K     |██████████████████▎             | 757kB 2.8MB/s eta 0:00:01\r\u001b[K     |██████████████████▋             | 768kB 2.8MB/s eta 0:00:01\r\u001b[K     |██████████████████▉             | 778kB 2.8MB/s eta 0:00:01\r\u001b[K     |███████████████████             | 788kB 2.8MB/s eta 0:00:01\r\u001b[K     |███████████████████▎            | 798kB 2.8MB/s eta 0:00:01\r\u001b[K     |███████████████████▋            | 808kB 2.8MB/s eta 0:00:01\r\u001b[K     |███████████████████▉            | 819kB 2.8MB/s eta 0:00:01\r\u001b[K     |████████████████████            | 829kB 2.8MB/s eta 0:00:01\r\u001b[K     |████████████████████▎           | 839kB 2.8MB/s eta 0:00:01\r\u001b[K     |████████████████████▋           | 849kB 2.8MB/s eta 0:00:01\r\u001b[K     |████████████████████▉           | 860kB 2.8MB/s eta 0:00:01\r\u001b[K     |█████████████████████           | 870kB 2.8MB/s eta 0:00:01\r\u001b[K     |█████████████████████▎          | 880kB 2.8MB/s eta 0:00:01\r\u001b[K     |█████████████████████▌          | 890kB 2.8MB/s eta 0:00:01\r\u001b[K     |█████████████████████▉          | 901kB 2.8MB/s eta 0:00:01\r\u001b[K     |██████████████████████          | 911kB 2.8MB/s eta 0:00:01\r\u001b[K     |██████████████████████▎         | 921kB 2.8MB/s eta 0:00:01\r\u001b[K     |██████████████████████▌         | 931kB 2.8MB/s eta 0:00:01\r\u001b[K     |██████████████████████▉         | 942kB 2.8MB/s eta 0:00:01\r\u001b[K     |███████████████████████         | 952kB 2.8MB/s eta 0:00:01\r\u001b[K     |███████████████████████▎        | 962kB 2.8MB/s eta 0:00:01\r\u001b[K     |███████████████████████▌        | 972kB 2.8MB/s eta 0:00:01\r\u001b[K     |███████████████████████▉        | 983kB 2.8MB/s eta 0:00:01\r\u001b[K     |████████████████████████        | 993kB 2.8MB/s eta 0:00:01\r\u001b[K     |████████████████████████▎       | 1.0MB 2.8MB/s eta 0:00:01\r\u001b[K     |████████████████████████▌       | 1.0MB 2.8MB/s eta 0:00:01\r\u001b[K     |████████████████████████▊       | 1.0MB 2.8MB/s eta 0:00:01\r\u001b[K     |█████████████████████████       | 1.0MB 2.8MB/s eta 0:00:01\r\u001b[K     |█████████████████████████▎      | 1.0MB 2.8MB/s eta 0:00:01\r\u001b[K     |█████████████████████████▌      | 1.1MB 2.8MB/s eta 0:00:01\r\u001b[K     |█████████████████████████▊      | 1.1MB 2.8MB/s eta 0:00:01\r\u001b[K     |██████████████████████████      | 1.1MB 2.8MB/s eta 0:00:01\r\u001b[K     |██████████████████████████▎     | 1.1MB 2.8MB/s eta 0:00:01\r\u001b[K     |██████████████████████████▌     | 1.1MB 2.8MB/s eta 0:00:01\r\u001b[K     |██████████████████████████▊     | 1.1MB 2.8MB/s eta 0:00:01\r\u001b[K     |███████████████████████████     | 1.1MB 2.8MB/s eta 0:00:01\r\u001b[K     |███████████████████████████▎    | 1.1MB 2.8MB/s eta 0:00:01\r\u001b[K     |███████████████████████████▌    | 1.1MB 2.8MB/s eta 0:00:01\r\u001b[K     |███████████████████████████▊    | 1.1MB 2.8MB/s eta 0:00:01\r\u001b[K     |████████████████████████████    | 1.2MB 2.8MB/s eta 0:00:01\r\u001b[K     |████████████████████████████▎   | 1.2MB 2.8MB/s eta 0:00:01\r\u001b[K     |████████████████████████████▌   | 1.2MB 2.8MB/s eta 0:00:01\r\u001b[K     |████████████████████████████▊   | 1.2MB 2.8MB/s eta 0:00:01\r\u001b[K     |█████████████████████████████   | 1.2MB 2.8MB/s eta 0:00:01\r\u001b[K     |█████████████████████████████▎  | 1.2MB 2.8MB/s eta 0:00:01\r\u001b[K     |█████████████████████████████▌  | 1.2MB 2.8MB/s eta 0:00:01\r\u001b[K     |█████████████████████████████▊  | 1.2MB 2.8MB/s eta 0:00:01\r\u001b[K     |██████████████████████████████  | 1.2MB 2.8MB/s eta 0:00:01\r\u001b[K     |██████████████████████████████▎ | 1.2MB 2.8MB/s eta 0:00:01\r\u001b[K     |██████████████████████████████▌ | 1.3MB 2.8MB/s eta 0:00:01\r\u001b[K     |██████████████████████████████▊ | 1.3MB 2.8MB/s eta 0:00:01\r\u001b[K     |███████████████████████████████ | 1.3MB 2.8MB/s eta 0:00:01\r\u001b[K     |███████████████████████████████▏| 1.3MB 2.8MB/s eta 0:00:01\r\u001b[K     |███████████████████████████████▌| 1.3MB 2.8MB/s eta 0:00:01\r\u001b[K     |███████████████████████████████▊| 1.3MB 2.8MB/s eta 0:00:01\r\u001b[K     |████████████████████████████████| 1.3MB 2.8MB/s eta 0:00:01\r\u001b[K     |████████████████████████████████| 1.3MB 2.8MB/s \n",
            "\u001b[?25hInstalling collected packages: Box2D\n",
            "Successfully installed Box2D-2.3.10\n"
          ],
          "name": "stdout"
        }
      ]
    },
    {
      "cell_type": "code",
      "metadata": {
        "colab_type": "code",
        "id": "UqZuuLJdk-eo",
        "colab": {}
      },
      "source": [
        "np.random.seed(1)\n",
        "tf.random.set_seed(1)"
      ],
      "execution_count": 3,
      "outputs": []
    },
    {
      "cell_type": "code",
      "metadata": {
        "colab_type": "code",
        "id": "NDpy0KDAlogG",
        "colab": {}
      },
      "source": [
        "Transition = namedtuple('Transition', ('state', 'action', 'reward', 'next_state', 'done'))"
      ],
      "execution_count": 4,
      "outputs": []
    },
    {
      "cell_type": "code",
      "metadata": {
        "colab_type": "code",
        "id": "5BzpDRXylxP1",
        "colab": {}
      },
      "source": [
        "class DQNAgent:\n",
        "    def __init__(self, env, discount_factor=0.95, epsilon_greedy=1.0, epsilon_min=0.01, epsilon_decay=0.995, learning_rate=1e-3, max_memory_size=2000):\n",
        "        self.env = env\n",
        "        self.state_size = env.observation_space.shape[0]\n",
        "        self.action_size = env.action_space.n\n",
        "        self.memory = deque(maxlen=max_memory_size)\n",
        "        self.gamma = discount_factor\n",
        "        self.epsilon = epsilon_greedy\n",
        "        self.epsilon_decay = epsilon_decay\n",
        "        self.epsilon_min = epsilon_min\n",
        "        self.lr = learning_rate\n",
        "        self._build_nn_model()\n",
        "        self._build_second_nn_model()\n",
        "        self.model_two.set_weights(self.model.get_weights())\n",
        "        self.c = 0\n",
        "    \n",
        "    def _build_second_nn_model(self, n_layers=3):\n",
        "        self.model_two = tf.keras.Sequential()\n",
        "        # Hidden layers\n",
        "        for n in range(n_layers-1):\n",
        "            self.model_two.add(tf.keras.layers.Dense(units=32, activation='relu'))\n",
        "            self.model_two.add(tf.keras.layers.Dense(units=32, activation='relu'))\n",
        "        # Final layer\n",
        "        self.model_two.add(tf.keras.layers.Dense(units=self.action_size))\n",
        "\n",
        "        # Build and compile model\n",
        "        self.model_two.build(input_shape=(None, self.state_size))\n",
        "        self.model_two.compile(loss='mse', optimizer=tf.keras.optimizers.Adam(lr=self.lr))\n",
        "    \n",
        "    def _build_nn_model(self, n_layers=3):\n",
        "        self.model = tf.keras.Sequential()\n",
        "        # Hidden layers\n",
        "        for n in range(n_layers-1):\n",
        "            self.model.add(tf.keras.layers.Dense(units=32, activation='relu'))\n",
        "            self.model.add(tf.keras.layers.Dense(units=32, activation='relu'))\n",
        "        # Final layer\n",
        "        self.model.add(tf.keras.layers.Dense(units=self.action_size))\n",
        "\n",
        "        # Build and compile model\n",
        "        self.model.build(input_shape=(None, self.state_size))\n",
        "        self.model.compile(loss='mse', optimizer=tf.keras.optimizers.Adam(lr=self.lr))\n",
        "        \n",
        "    def remember(self, transition):\n",
        "        self.memory.append(transition)\n",
        "        \n",
        "    def choose_action(self, state):\n",
        "        if np.random.random() <= self.epsilon:\n",
        "            return np.random.randint(self.action_size)\n",
        "        q_values = self.model.predict(state)[0]\n",
        "        return np.argmax(q_values)\n",
        "    \n",
        "    def _learn(self, batch_samples, done):\n",
        "        batch_states, batch_targets = [], []\n",
        "        for transition in batch_samples:\n",
        "            s, a, r, next_s, done = transition\n",
        "            if done:\n",
        "                target = r\n",
        "            else:\n",
        "                target = (r + self.gamma * np.amax(self.model_two.predict(next_s)[0]))\n",
        "            target_all = self.model.predict(s)[0]\n",
        "            target_all[a] = target\n",
        "            batch_states.append(s.flatten())\n",
        "            batch_targets.append(target_all)\n",
        "            self._adjust_epsilon()\n",
        "#             self.c += 1\n",
        "            if done:\n",
        "                self.model_two.set_weights(self.model.get_weights())\n",
        "#                 self.c = 0\n",
        "        return self.model.fit(x=np.array(batch_states), y=np.array(batch_targets), verbose=0)\n",
        "    \n",
        "    def _adjust_epsilon(self):\n",
        "        if self.epsilon > self.epsilon_min:\n",
        "            self.epsilon *= self.epsilon_decay\n",
        "            \n",
        "    def replay(self, batch_size, done):\n",
        "        samples = random.sample(self.memory, batch_size)\n",
        "        history = self._learn(samples, done)\n",
        "        return history.history['loss'][0]"
      ],
      "execution_count": 5,
      "outputs": []
    },
    {
      "cell_type": "code",
      "metadata": {
        "colab_type": "code",
        "id": "Uorr30SXRiS2",
        "colab": {}
      },
      "source": [
        "def plot_learning_history(history):\n",
        "    fig = plt.figure(1, figsize=(14,5))\n",
        "    ax = fig.add_subplot(1, 1, 1)\n",
        "    episodes = np.arange(len(history)) + 1\n",
        "    plt.plot(episodes, history, lw=4, marker='o', markersize=10)\n",
        "    ax.tick_params(axis='both', which='major', labelsize=15)\n",
        "    plt.xlabel('Episodes', size=20)\n",
        "    plt.ylabel('# Total Rewards', size=20)\n",
        "    plt.show()"
      ],
      "execution_count": 6,
      "outputs": []
    },
    {
      "cell_type": "code",
      "metadata": {
        "colab_type": "code",
        "id": "aFXUA_3ISKUj",
        "colab": {
          "base_uri": "https://localhost:8080/",
          "height": 1000
        },
        "outputId": "43b6da75-93ac-4f75-b14d-762a22e2416f"
      },
      "source": [
        "EPISODES = 60\n",
        "batch_size = 32\n",
        "init_replay_memory_size = 500\n",
        "\n",
        "if __name__ == '__main__':\n",
        "  env = gym.make('LunarLander-v2')\n",
        "  env.mode = 'fast'  \n",
        "  agent = DQNAgent(env)\n",
        "  state = env.reset()\n",
        "  state = np.reshape(state, [1, agent.state_size])\n",
        "\n",
        "  for i in range(init_replay_memory_size):\n",
        "    action = agent.choose_action(state)\n",
        "    next_state, reward, done, _ = env.step(action)\n",
        "    next_state = np.reshape(next_state, [1, agent.state_size])\n",
        "    agent.remember(Transition(state, action, reward, next_state, done))\n",
        "    if done:\n",
        "      state = env.reset()\n",
        "      state = np.reshape(state, [1, agent.state_size])\n",
        "    else:\n",
        "      state = next_state\n",
        "    \n",
        "  total_rewards, losses = [], []\n",
        "  epi = 0 \n",
        "  for e in range(EPISODES):\n",
        "    e_reward = 0\n",
        "    print(\"In Episode: \", e)\n",
        "    state = env.reset()\n",
        "#     if e % 10 == 0:\n",
        "    # env.render()\n",
        "    done = False\n",
        "    state = np.reshape(state, [1, agent.state_size])\n",
        "    if epi < 600:\n",
        "      epi += 5\n",
        "    for i in range(epi):\n",
        "      action = agent.choose_action(state)\n",
        "      next_state, reward, done, _ = env.step(action)\n",
        "      e_reward += reward\n",
        "      next_state = np.reshape(next_state, [1, agent.state_size])\n",
        "      agent.remember(Transition(state, action, reward, next_state, done))\n",
        "      state = next_state\n",
        "#       if e % 10 == 0:\n",
        "      # env.render()\n",
        "      if done:\n",
        "        total_rewards.append(e_reward)\n",
        "        print('Episode: %d/%d, Total reward: %d' % (e, EPISODES, e_reward))\n",
        "        break\n",
        "      loss = agent.replay(batch_size, done)\n",
        "      losses.append(loss)\n",
        "    if not done:\n",
        "      total_rewards.append(e_reward)\n",
        "      print(\"Terminated before terminal state\")  \n",
        "  plot_learning_history(total_rewards) "
      ],
      "execution_count": 7,
      "outputs": [
        {
          "output_type": "stream",
          "text": [
            "In Episode:  0\n",
            "Terminated before terminal state\n",
            "In Episode:  1\n",
            "Terminated before terminal state\n",
            "In Episode:  2\n",
            "Terminated before terminal state\n",
            "In Episode:  3\n",
            "Terminated before terminal state\n",
            "In Episode:  4\n",
            "Terminated before terminal state\n",
            "In Episode:  5\n",
            "Terminated before terminal state\n",
            "In Episode:  6\n",
            "Episode: 6/60, Total reward: -358\n",
            "In Episode:  7\n",
            "Terminated before terminal state\n",
            "In Episode:  8\n",
            "Terminated before terminal state\n",
            "In Episode:  9\n",
            "Terminated before terminal state\n",
            "In Episode:  10\n",
            "Episode: 10/60, Total reward: -64\n",
            "In Episode:  11\n",
            "Terminated before terminal state\n",
            "In Episode:  12\n",
            "Terminated before terminal state\n",
            "In Episode:  13\n",
            "Terminated before terminal state\n",
            "In Episode:  14\n",
            "Terminated before terminal state\n",
            "In Episode:  15\n",
            "Terminated before terminal state\n",
            "In Episode:  16\n",
            "Terminated before terminal state\n",
            "In Episode:  17\n",
            "Terminated before terminal state\n",
            "In Episode:  18\n"
          ],
          "name": "stdout"
        },
        {
          "output_type": "error",
          "ename": "KeyboardInterrupt",
          "evalue": "ignored",
          "traceback": [
            "\u001b[0;31m---------------------------------------------------------------------------\u001b[0m",
            "\u001b[0;31mKeyboardInterrupt\u001b[0m                         Traceback (most recent call last)",
            "\u001b[0;32m<ipython-input-7-93ec6d4de157>\u001b[0m in \u001b[0;36m<module>\u001b[0;34m()\u001b[0m\n\u001b[1;32m     46\u001b[0m         \u001b[0mprint\u001b[0m\u001b[0;34m(\u001b[0m\u001b[0;34m'Episode: %d/%d, Total reward: %d'\u001b[0m \u001b[0;34m%\u001b[0m \u001b[0;34m(\u001b[0m\u001b[0me\u001b[0m\u001b[0;34m,\u001b[0m \u001b[0mEPISODES\u001b[0m\u001b[0;34m,\u001b[0m \u001b[0me_reward\u001b[0m\u001b[0;34m)\u001b[0m\u001b[0;34m)\u001b[0m\u001b[0;34m\u001b[0m\u001b[0;34m\u001b[0m\u001b[0m\n\u001b[1;32m     47\u001b[0m         \u001b[0;32mbreak\u001b[0m\u001b[0;34m\u001b[0m\u001b[0;34m\u001b[0m\u001b[0m\n\u001b[0;32m---> 48\u001b[0;31m       \u001b[0mloss\u001b[0m \u001b[0;34m=\u001b[0m \u001b[0magent\u001b[0m\u001b[0;34m.\u001b[0m\u001b[0mreplay\u001b[0m\u001b[0;34m(\u001b[0m\u001b[0mbatch_size\u001b[0m\u001b[0;34m,\u001b[0m \u001b[0mdone\u001b[0m\u001b[0;34m)\u001b[0m\u001b[0;34m\u001b[0m\u001b[0;34m\u001b[0m\u001b[0m\n\u001b[0m\u001b[1;32m     49\u001b[0m       \u001b[0mlosses\u001b[0m\u001b[0;34m.\u001b[0m\u001b[0mappend\u001b[0m\u001b[0;34m(\u001b[0m\u001b[0mloss\u001b[0m\u001b[0;34m)\u001b[0m\u001b[0;34m\u001b[0m\u001b[0;34m\u001b[0m\u001b[0m\n\u001b[1;32m     50\u001b[0m     \u001b[0;32mif\u001b[0m \u001b[0;32mnot\u001b[0m \u001b[0mdone\u001b[0m\u001b[0;34m:\u001b[0m\u001b[0;34m\u001b[0m\u001b[0;34m\u001b[0m\u001b[0m\n",
            "\u001b[0;32m<ipython-input-5-ac064c5bdd0f>\u001b[0m in \u001b[0;36mreplay\u001b[0;34m(self, batch_size, done)\u001b[0m\n\u001b[1;32m     75\u001b[0m     \u001b[0;32mdef\u001b[0m \u001b[0mreplay\u001b[0m\u001b[0;34m(\u001b[0m\u001b[0mself\u001b[0m\u001b[0;34m,\u001b[0m \u001b[0mbatch_size\u001b[0m\u001b[0;34m,\u001b[0m \u001b[0mdone\u001b[0m\u001b[0;34m)\u001b[0m\u001b[0;34m:\u001b[0m\u001b[0;34m\u001b[0m\u001b[0;34m\u001b[0m\u001b[0m\n\u001b[1;32m     76\u001b[0m         \u001b[0msamples\u001b[0m \u001b[0;34m=\u001b[0m \u001b[0mrandom\u001b[0m\u001b[0;34m.\u001b[0m\u001b[0msample\u001b[0m\u001b[0;34m(\u001b[0m\u001b[0mself\u001b[0m\u001b[0;34m.\u001b[0m\u001b[0mmemory\u001b[0m\u001b[0;34m,\u001b[0m \u001b[0mbatch_size\u001b[0m\u001b[0;34m)\u001b[0m\u001b[0;34m\u001b[0m\u001b[0;34m\u001b[0m\u001b[0m\n\u001b[0;32m---> 77\u001b[0;31m         \u001b[0mhistory\u001b[0m \u001b[0;34m=\u001b[0m \u001b[0mself\u001b[0m\u001b[0;34m.\u001b[0m\u001b[0m_learn\u001b[0m\u001b[0;34m(\u001b[0m\u001b[0msamples\u001b[0m\u001b[0;34m,\u001b[0m \u001b[0mdone\u001b[0m\u001b[0;34m)\u001b[0m\u001b[0;34m\u001b[0m\u001b[0;34m\u001b[0m\u001b[0m\n\u001b[0m\u001b[1;32m     78\u001b[0m         \u001b[0;32mreturn\u001b[0m \u001b[0mhistory\u001b[0m\u001b[0;34m.\u001b[0m\u001b[0mhistory\u001b[0m\u001b[0;34m[\u001b[0m\u001b[0;34m'loss'\u001b[0m\u001b[0;34m]\u001b[0m\u001b[0;34m[\u001b[0m\u001b[0;36m0\u001b[0m\u001b[0;34m]\u001b[0m\u001b[0;34m\u001b[0m\u001b[0;34m\u001b[0m\u001b[0m\n",
            "\u001b[0;32m<ipython-input-5-ac064c5bdd0f>\u001b[0m in \u001b[0;36m_learn\u001b[0;34m(self, batch_samples, done)\u001b[0m\n\u001b[1;32m     58\u001b[0m             \u001b[0;32melse\u001b[0m\u001b[0;34m:\u001b[0m\u001b[0;34m\u001b[0m\u001b[0;34m\u001b[0m\u001b[0m\n\u001b[1;32m     59\u001b[0m                 \u001b[0mtarget\u001b[0m \u001b[0;34m=\u001b[0m \u001b[0;34m(\u001b[0m\u001b[0mr\u001b[0m \u001b[0;34m+\u001b[0m \u001b[0mself\u001b[0m\u001b[0;34m.\u001b[0m\u001b[0mgamma\u001b[0m \u001b[0;34m*\u001b[0m \u001b[0mnp\u001b[0m\u001b[0;34m.\u001b[0m\u001b[0mamax\u001b[0m\u001b[0;34m(\u001b[0m\u001b[0mself\u001b[0m\u001b[0;34m.\u001b[0m\u001b[0mmodel_two\u001b[0m\u001b[0;34m.\u001b[0m\u001b[0mpredict\u001b[0m\u001b[0;34m(\u001b[0m\u001b[0mnext_s\u001b[0m\u001b[0;34m)\u001b[0m\u001b[0;34m[\u001b[0m\u001b[0;36m0\u001b[0m\u001b[0;34m]\u001b[0m\u001b[0;34m)\u001b[0m\u001b[0;34m)\u001b[0m\u001b[0;34m\u001b[0m\u001b[0;34m\u001b[0m\u001b[0m\n\u001b[0;32m---> 60\u001b[0;31m             \u001b[0mtarget_all\u001b[0m \u001b[0;34m=\u001b[0m \u001b[0mself\u001b[0m\u001b[0;34m.\u001b[0m\u001b[0mmodel\u001b[0m\u001b[0;34m.\u001b[0m\u001b[0mpredict\u001b[0m\u001b[0;34m(\u001b[0m\u001b[0ms\u001b[0m\u001b[0;34m)\u001b[0m\u001b[0;34m[\u001b[0m\u001b[0;36m0\u001b[0m\u001b[0;34m]\u001b[0m\u001b[0;34m\u001b[0m\u001b[0;34m\u001b[0m\u001b[0m\n\u001b[0m\u001b[1;32m     61\u001b[0m             \u001b[0mtarget_all\u001b[0m\u001b[0;34m[\u001b[0m\u001b[0ma\u001b[0m\u001b[0;34m]\u001b[0m \u001b[0;34m=\u001b[0m \u001b[0mtarget\u001b[0m\u001b[0;34m\u001b[0m\u001b[0;34m\u001b[0m\u001b[0m\n\u001b[1;32m     62\u001b[0m             \u001b[0mbatch_states\u001b[0m\u001b[0;34m.\u001b[0m\u001b[0mappend\u001b[0m\u001b[0;34m(\u001b[0m\u001b[0ms\u001b[0m\u001b[0;34m.\u001b[0m\u001b[0mflatten\u001b[0m\u001b[0;34m(\u001b[0m\u001b[0;34m)\u001b[0m\u001b[0;34m)\u001b[0m\u001b[0;34m\u001b[0m\u001b[0;34m\u001b[0m\u001b[0m\n",
            "\u001b[0;32m/usr/local/lib/python3.6/dist-packages/tensorflow/python/keras/engine/training.py\u001b[0m in \u001b[0;36m_method_wrapper\u001b[0;34m(self, *args, **kwargs)\u001b[0m\n\u001b[1;32m     86\u001b[0m       raise ValueError('{} is not supported in multi-worker mode.'.format(\n\u001b[1;32m     87\u001b[0m           method.__name__))\n\u001b[0;32m---> 88\u001b[0;31m     \u001b[0;32mreturn\u001b[0m \u001b[0mmethod\u001b[0m\u001b[0;34m(\u001b[0m\u001b[0mself\u001b[0m\u001b[0;34m,\u001b[0m \u001b[0;34m*\u001b[0m\u001b[0margs\u001b[0m\u001b[0;34m,\u001b[0m \u001b[0;34m**\u001b[0m\u001b[0mkwargs\u001b[0m\u001b[0;34m)\u001b[0m\u001b[0;34m\u001b[0m\u001b[0;34m\u001b[0m\u001b[0m\n\u001b[0m\u001b[1;32m     89\u001b[0m \u001b[0;34m\u001b[0m\u001b[0m\n\u001b[1;32m     90\u001b[0m   return tf_decorator.make_decorator(\n",
            "\u001b[0;32m/usr/local/lib/python3.6/dist-packages/tensorflow/python/keras/engine/training.py\u001b[0m in \u001b[0;36mpredict\u001b[0;34m(self, x, batch_size, verbose, steps, callbacks, max_queue_size, workers, use_multiprocessing)\u001b[0m\n\u001b[1;32m   1262\u001b[0m       \u001b[0mpredict_function\u001b[0m \u001b[0;34m=\u001b[0m \u001b[0mself\u001b[0m\u001b[0;34m.\u001b[0m\u001b[0mmake_predict_function\u001b[0m\u001b[0;34m(\u001b[0m\u001b[0;34m)\u001b[0m\u001b[0;34m\u001b[0m\u001b[0;34m\u001b[0m\u001b[0m\n\u001b[1;32m   1263\u001b[0m       \u001b[0mcallbacks\u001b[0m\u001b[0;34m.\u001b[0m\u001b[0mon_predict_begin\u001b[0m\u001b[0;34m(\u001b[0m\u001b[0;34m)\u001b[0m\u001b[0;34m\u001b[0m\u001b[0;34m\u001b[0m\u001b[0m\n\u001b[0;32m-> 1264\u001b[0;31m       \u001b[0;32mfor\u001b[0m \u001b[0m_\u001b[0m\u001b[0;34m,\u001b[0m \u001b[0miterator\u001b[0m \u001b[0;32min\u001b[0m \u001b[0mdata_handler\u001b[0m\u001b[0;34m.\u001b[0m\u001b[0menumerate_epochs\u001b[0m\u001b[0;34m(\u001b[0m\u001b[0;34m)\u001b[0m\u001b[0;34m:\u001b[0m  \u001b[0;31m# Single epoch.\u001b[0m\u001b[0;34m\u001b[0m\u001b[0;34m\u001b[0m\u001b[0m\n\u001b[0m\u001b[1;32m   1265\u001b[0m         \u001b[0;32mwith\u001b[0m \u001b[0mdata_handler\u001b[0m\u001b[0;34m.\u001b[0m\u001b[0mcatch_stop_iteration\u001b[0m\u001b[0;34m(\u001b[0m\u001b[0;34m)\u001b[0m\u001b[0;34m:\u001b[0m\u001b[0;34m\u001b[0m\u001b[0;34m\u001b[0m\u001b[0m\n\u001b[1;32m   1266\u001b[0m           \u001b[0;32mfor\u001b[0m \u001b[0mstep\u001b[0m \u001b[0;32min\u001b[0m \u001b[0mdata_handler\u001b[0m\u001b[0;34m.\u001b[0m\u001b[0msteps\u001b[0m\u001b[0;34m(\u001b[0m\u001b[0;34m)\u001b[0m\u001b[0;34m:\u001b[0m\u001b[0;34m\u001b[0m\u001b[0;34m\u001b[0m\u001b[0m\n",
            "\u001b[0;32m/usr/local/lib/python3.6/dist-packages/tensorflow/python/keras/engine/data_adapter.py\u001b[0m in \u001b[0;36menumerate_epochs\u001b[0;34m(self)\u001b[0m\n\u001b[1;32m   1121\u001b[0m   \u001b[0;32mdef\u001b[0m \u001b[0menumerate_epochs\u001b[0m\u001b[0;34m(\u001b[0m\u001b[0mself\u001b[0m\u001b[0;34m)\u001b[0m\u001b[0;34m:\u001b[0m\u001b[0;34m\u001b[0m\u001b[0;34m\u001b[0m\u001b[0m\n\u001b[1;32m   1122\u001b[0m     \u001b[0;34m\"\"\"Yields `(epoch, tf.data.Iterator)`.\"\"\"\u001b[0m\u001b[0;34m\u001b[0m\u001b[0;34m\u001b[0m\u001b[0m\n\u001b[0;32m-> 1123\u001b[0;31m     \u001b[0mdata_iterator\u001b[0m \u001b[0;34m=\u001b[0m \u001b[0miter\u001b[0m\u001b[0;34m(\u001b[0m\u001b[0mself\u001b[0m\u001b[0;34m.\u001b[0m\u001b[0m_dataset\u001b[0m\u001b[0;34m)\u001b[0m\u001b[0;34m\u001b[0m\u001b[0;34m\u001b[0m\u001b[0m\n\u001b[0m\u001b[1;32m   1124\u001b[0m     \u001b[0;32mfor\u001b[0m \u001b[0mepoch\u001b[0m \u001b[0;32min\u001b[0m \u001b[0mrange\u001b[0m\u001b[0;34m(\u001b[0m\u001b[0mself\u001b[0m\u001b[0;34m.\u001b[0m\u001b[0m_initial_epoch\u001b[0m\u001b[0;34m,\u001b[0m \u001b[0mself\u001b[0m\u001b[0;34m.\u001b[0m\u001b[0m_epochs\u001b[0m\u001b[0;34m)\u001b[0m\u001b[0;34m:\u001b[0m\u001b[0;34m\u001b[0m\u001b[0;34m\u001b[0m\u001b[0m\n\u001b[1;32m   1125\u001b[0m       \u001b[0;32mif\u001b[0m \u001b[0mself\u001b[0m\u001b[0;34m.\u001b[0m\u001b[0m_insufficient_data\u001b[0m\u001b[0;34m:\u001b[0m  \u001b[0;31m# Set by `catch_stop_iteration`.\u001b[0m\u001b[0;34m\u001b[0m\u001b[0;34m\u001b[0m\u001b[0m\n",
            "\u001b[0;32m/usr/local/lib/python3.6/dist-packages/tensorflow/python/data/ops/dataset_ops.py\u001b[0m in \u001b[0;36m__iter__\u001b[0;34m(self)\u001b[0m\n\u001b[1;32m    402\u001b[0m     \"\"\"\n\u001b[1;32m    403\u001b[0m     \u001b[0;32mif\u001b[0m \u001b[0mcontext\u001b[0m\u001b[0;34m.\u001b[0m\u001b[0mexecuting_eagerly\u001b[0m\u001b[0;34m(\u001b[0m\u001b[0;34m)\u001b[0m \u001b[0;32mor\u001b[0m \u001b[0mops\u001b[0m\u001b[0;34m.\u001b[0m\u001b[0minside_function\u001b[0m\u001b[0;34m(\u001b[0m\u001b[0;34m)\u001b[0m\u001b[0;34m:\u001b[0m\u001b[0;34m\u001b[0m\u001b[0;34m\u001b[0m\u001b[0m\n\u001b[0;32m--> 404\u001b[0;31m       \u001b[0;32mreturn\u001b[0m \u001b[0miterator_ops\u001b[0m\u001b[0;34m.\u001b[0m\u001b[0mOwnedIterator\u001b[0m\u001b[0;34m(\u001b[0m\u001b[0mself\u001b[0m\u001b[0;34m)\u001b[0m\u001b[0;34m\u001b[0m\u001b[0;34m\u001b[0m\u001b[0m\n\u001b[0m\u001b[1;32m    405\u001b[0m     \u001b[0;32melse\u001b[0m\u001b[0;34m:\u001b[0m\u001b[0;34m\u001b[0m\u001b[0;34m\u001b[0m\u001b[0m\n\u001b[1;32m    406\u001b[0m       raise RuntimeError(\"__iter__() is only supported inside of tf.function \"\n",
            "\u001b[0;32m/usr/local/lib/python3.6/dist-packages/tensorflow/python/data/ops/iterator_ops.py\u001b[0m in \u001b[0;36m__init__\u001b[0;34m(self, dataset, components, element_spec)\u001b[0m\n\u001b[1;32m    593\u001b[0m           context.context().device_spec.device_type != \"CPU\"):\n\u001b[1;32m    594\u001b[0m         \u001b[0;32mwith\u001b[0m \u001b[0mops\u001b[0m\u001b[0;34m.\u001b[0m\u001b[0mdevice\u001b[0m\u001b[0;34m(\u001b[0m\u001b[0;34m\"/cpu:0\"\u001b[0m\u001b[0;34m)\u001b[0m\u001b[0;34m:\u001b[0m\u001b[0;34m\u001b[0m\u001b[0;34m\u001b[0m\u001b[0m\n\u001b[0;32m--> 595\u001b[0;31m           \u001b[0mself\u001b[0m\u001b[0;34m.\u001b[0m\u001b[0m_create_iterator\u001b[0m\u001b[0;34m(\u001b[0m\u001b[0mdataset\u001b[0m\u001b[0;34m)\u001b[0m\u001b[0;34m\u001b[0m\u001b[0;34m\u001b[0m\u001b[0m\n\u001b[0m\u001b[1;32m    596\u001b[0m       \u001b[0;32melse\u001b[0m\u001b[0;34m:\u001b[0m\u001b[0;34m\u001b[0m\u001b[0;34m\u001b[0m\u001b[0m\n\u001b[1;32m    597\u001b[0m         \u001b[0mself\u001b[0m\u001b[0;34m.\u001b[0m\u001b[0m_create_iterator\u001b[0m\u001b[0;34m(\u001b[0m\u001b[0mdataset\u001b[0m\u001b[0;34m)\u001b[0m\u001b[0;34m\u001b[0m\u001b[0;34m\u001b[0m\u001b[0m\n",
            "\u001b[0;32m/usr/local/lib/python3.6/dist-packages/tensorflow/python/data/ops/iterator_ops.py\u001b[0m in \u001b[0;36m_create_iterator\u001b[0;34m(self, dataset)\u001b[0m\n\u001b[1;32m    613\u001b[0m     self._flat_output_shapes = structure.get_flat_tensor_shapes(\n\u001b[1;32m    614\u001b[0m         self._element_spec)\n\u001b[0;32m--> 615\u001b[0;31m     \u001b[0;32mwith\u001b[0m \u001b[0mops\u001b[0m\u001b[0;34m.\u001b[0m\u001b[0mcolocate_with\u001b[0m\u001b[0;34m(\u001b[0m\u001b[0mds_variant\u001b[0m\u001b[0;34m)\u001b[0m\u001b[0;34m:\u001b[0m\u001b[0;34m\u001b[0m\u001b[0;34m\u001b[0m\u001b[0m\n\u001b[0m\u001b[1;32m    616\u001b[0m       self._iterator_resource, self._deleter = (\n\u001b[1;32m    617\u001b[0m           gen_dataset_ops.anonymous_iterator_v2(\n",
            "\u001b[0;32m/usr/local/lib/python3.6/dist-packages/tensorflow/python/eager/context.py\u001b[0m in \u001b[0;36m__enter__\u001b[0;34m(self)\u001b[0m\n\u001b[1;32m   1650\u001b[0m       \u001b[0m_device_parsing_cache\u001b[0m\u001b[0;34m[\u001b[0m\u001b[0mcache_key\u001b[0m\u001b[0;34m]\u001b[0m \u001b[0;34m=\u001b[0m \u001b[0;34m(\u001b[0m\u001b[0mnew_device_name\u001b[0m\u001b[0;34m,\u001b[0m \u001b[0mnew_device_spec\u001b[0m\u001b[0;34m)\u001b[0m\u001b[0;34m\u001b[0m\u001b[0;34m\u001b[0m\u001b[0m\n\u001b[1;32m   1651\u001b[0m \u001b[0;34m\u001b[0m\u001b[0m\n\u001b[0;32m-> 1652\u001b[0;31m     \u001b[0mctx\u001b[0m\u001b[0;34m.\u001b[0m\u001b[0m_set_device\u001b[0m\u001b[0;34m(\u001b[0m\u001b[0mnew_device_name\u001b[0m\u001b[0;34m,\u001b[0m \u001b[0mnew_device_spec\u001b[0m\u001b[0;34m)\u001b[0m  \u001b[0;31m# pylint: disable=protected-access\u001b[0m\u001b[0;34m\u001b[0m\u001b[0;34m\u001b[0m\u001b[0m\n\u001b[0m\u001b[1;32m   1653\u001b[0m     \u001b[0mself\u001b[0m\u001b[0;34m.\u001b[0m\u001b[0m_stack\u001b[0m\u001b[0;34m.\u001b[0m\u001b[0mappend\u001b[0m\u001b[0;34m(\u001b[0m\u001b[0;34m(\u001b[0m\u001b[0mold_device_name\u001b[0m\u001b[0;34m,\u001b[0m \u001b[0mold_device_spec\u001b[0m\u001b[0;34m,\u001b[0m \u001b[0mnew_device_spec\u001b[0m\u001b[0;34m)\u001b[0m\u001b[0;34m)\u001b[0m\u001b[0;34m\u001b[0m\u001b[0;34m\u001b[0m\u001b[0m\n\u001b[1;32m   1654\u001b[0m \u001b[0;34m\u001b[0m\u001b[0m\n",
            "\u001b[0;32m/usr/local/lib/python3.6/dist-packages/tensorflow/python/eager/context.py\u001b[0m in \u001b[0;36m_set_device\u001b[0;34m(self, device_name, device_spec)\u001b[0m\n\u001b[1;32m    796\u001b[0m \u001b[0;34m\u001b[0m\u001b[0m\n\u001b[1;32m    797\u001b[0m   \u001b[0;32mdef\u001b[0m \u001b[0m_set_device\u001b[0m\u001b[0;34m(\u001b[0m\u001b[0mself\u001b[0m\u001b[0;34m,\u001b[0m \u001b[0mdevice_name\u001b[0m\u001b[0;34m,\u001b[0m \u001b[0mdevice_spec\u001b[0m\u001b[0;34m)\u001b[0m\u001b[0;34m:\u001b[0m\u001b[0;34m\u001b[0m\u001b[0;34m\u001b[0m\u001b[0m\n\u001b[0;32m--> 798\u001b[0;31m     \u001b[0mself\u001b[0m\u001b[0;34m.\u001b[0m\u001b[0m_thread_local_data\u001b[0m\u001b[0;34m.\u001b[0m\u001b[0mdevice_name\u001b[0m \u001b[0;34m=\u001b[0m \u001b[0mdevice_name\u001b[0m\u001b[0;34m\u001b[0m\u001b[0;34m\u001b[0m\u001b[0m\n\u001b[0m\u001b[1;32m    799\u001b[0m     \u001b[0mself\u001b[0m\u001b[0;34m.\u001b[0m\u001b[0m_thread_local_data\u001b[0m\u001b[0;34m.\u001b[0m\u001b[0mdevice_spec\u001b[0m \u001b[0;34m=\u001b[0m \u001b[0mdevice_spec\u001b[0m\u001b[0;34m\u001b[0m\u001b[0;34m\u001b[0m\u001b[0m\n\u001b[1;32m    800\u001b[0m \u001b[0;34m\u001b[0m\u001b[0m\n",
            "\u001b[0;31mKeyboardInterrupt\u001b[0m: "
          ]
        }
      ]
    },
    {
      "cell_type": "code",
      "metadata": {
        "colab_type": "code",
        "id": "S9zQa02tS0MT",
        "colab": {
          "base_uri": "https://localhost:8080/",
          "height": 35
        },
        "outputId": "f77c9d4a-84b7-4342-bcff-f3c7a6cfa27d"
      },
      "source": [
        "total_rewards"
      ],
      "execution_count": 8,
      "outputs": [
        {
          "output_type": "execute_result",
          "data": {
            "text/plain": [
              "[-358.41096603996715, -64.20761427578776]"
            ]
          },
          "metadata": {
            "tags": []
          },
          "execution_count": 8
        }
      ]
    },
    {
      "cell_type": "code",
      "metadata": {
        "colab_type": "code",
        "id": "5ftlgXAUS1V7",
        "colab": {}
      },
      "source": [
        ""
      ],
      "execution_count": null,
      "outputs": []
    }
  ]
}